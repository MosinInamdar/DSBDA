{
  "nbformat": 4,
  "nbformat_minor": 0,
  "metadata": {
    "colab": {
      "provenance": []
    },
    "kernelspec": {
      "name": "python3",
      "display_name": "Python 3"
    },
    "language_info": {
      "name": "python"
    }
  },
  "cells": [
    {
      "cell_type": "markdown",
      "source": [
        "Text Analytics\n",
        "1. Extract Sample document and apply following document preprocessing methods:\n",
        "Tokenization, POS Tagging, stop words removal, Stemming and Lemmatization.\n",
        "2. Create representation of document by calculating Term Frequency and Inverse Document\n",
        "Frequency."
      ],
      "metadata": {
        "id": "3dRqAWd_k0SD"
      }
    },
    {
      "cell_type": "code",
      "execution_count": null,
      "metadata": {
        "colab": {
          "base_uri": "https://localhost:8080/"
        },
        "id": "4heIpdVQcq7p",
        "outputId": "8c01db7d-c47c-4955-a442-8fbde9faab39"
      },
      "outputs": [
        {
          "output_type": "stream",
          "name": "stderr",
          "text": [
            "[nltk_data] Downloading package punkt to /root/nltk_data...\n",
            "[nltk_data]   Unzipping tokenizers/punkt.zip.\n",
            "[nltk_data] Downloading package stopwords to /root/nltk_data...\n",
            "[nltk_data]   Package stopwords is already up-to-date!\n",
            "[nltk_data] Downloading package wordnet to /root/nltk_data...\n",
            "[nltk_data]   Package wordnet is already up-to-date!\n",
            "[nltk_data] Downloading package averaged_perceptron_tagger to\n",
            "[nltk_data]     /root/nltk_data...\n",
            "[nltk_data]   Package averaged_perceptron_tagger is already up-to-\n",
            "[nltk_data]       date!\n"
          ]
        },
        {
          "output_type": "execute_result",
          "data": {
            "text/plain": [
              "True"
            ]
          },
          "metadata": {},
          "execution_count": 8
        }
      ],
      "source": [
        "import nltk\n",
        "nltk.download(\"punkt\")\n",
        "nltk.download(\"stopwords\")\n",
        "nltk.download(\"wordnet\")\n",
        "nltk.download(\"averaged_perceptron_tagger\")"
      ]
    },
    {
      "cell_type": "markdown",
      "source": [
        "Tokenization"
      ],
      "metadata": {
        "id": "81MNqTsKfQiC"
      }
    },
    {
      "cell_type": "code",
      "source": [
        "from nltk import word_tokenize, sent_tokenize"
      ],
      "metadata": {
        "id": "0ZZvJUe-ejYr"
      },
      "execution_count": null,
      "outputs": []
    },
    {
      "cell_type": "code",
      "source": [
        "RonaldoData = \"Cristiano Ronaldo, one of football's most iconic figures, has achieved remarkable success across his stints with clubs like Manchester United, Real Madrid, and Juventus, and on the international stage with Portugal. Notable for winning five Ballon d'Or awards, Ronaldo has secured multiple league titles, including three Premier League titles and two La Liga titles, along with five UEFA Champions League trophies. His international accolades include leading Portugal to victory in the 2016 UEFA European Championship and the 2019 UEFA Nations League. As a prolific goal-scorer, Ronaldo holds the record for the most goals in the UEFA Champions League and became the all-time leading scorer in men's international matches, underscoring his status as a global football legend.\""
      ],
      "metadata": {
        "id": "eleKeUD9dFPw"
      },
      "execution_count": null,
      "outputs": []
    },
    {
      "cell_type": "code",
      "source": [
        "print(word_tokenize(RonaldoData))\n",
        "print(sent_tokenize(RonaldoData))"
      ],
      "metadata": {
        "colab": {
          "base_uri": "https://localhost:8080/"
        },
        "id": "lxTuJOATeDUR",
        "outputId": "7fae56a4-9499-4a5f-ef21-f66ec194f768"
      },
      "execution_count": null,
      "outputs": [
        {
          "output_type": "stream",
          "name": "stdout",
          "text": [
            "['Cristiano', 'Ronaldo', ',', 'one', 'of', 'football', \"'s\", 'most', 'iconic', 'figures', ',', 'has', 'achieved', 'remarkable', 'success', 'across', 'his', 'stints', 'with', 'clubs', 'like', 'Manchester', 'United', ',', 'Real', 'Madrid', ',', 'and', 'Juventus', ',', 'and', 'on', 'the', 'international', 'stage', 'with', 'Portugal', '.', 'Notable', 'for', 'winning', 'five', 'Ballon', \"d'Or\", 'awards', ',', 'Ronaldo', 'has', 'secured', 'multiple', 'league', 'titles', ',', 'including', 'three', 'Premier', 'League', 'titles', 'and', 'two', 'La', 'Liga', 'titles', ',', 'along', 'with', 'five', 'UEFA', 'Champions', 'League', 'trophies', '.', 'His', 'international', 'accolades', 'include', 'leading', 'Portugal', 'to', 'victory', 'in', 'the', '2016', 'UEFA', 'European', 'Championship', 'and', 'the', '2019', 'UEFA', 'Nations', 'League', '.', 'As', 'a', 'prolific', 'goal-scorer', ',', 'Ronaldo', 'holds', 'the', 'record', 'for', 'the', 'most', 'goals', 'in', 'the', 'UEFA', 'Champions', 'League', 'and', 'became', 'the', 'all-time', 'leading', 'scorer', 'in', 'men', \"'s\", 'international', 'matches', ',', 'underscoring', 'his', 'status', 'as', 'a', 'global', 'football', 'legend', '.']\n",
            "[\"Cristiano Ronaldo, one of football's most iconic figures, has achieved remarkable success across his stints with clubs like Manchester United, Real Madrid, and Juventus, and on the international stage with Portugal.\", \"Notable for winning five Ballon d'Or awards, Ronaldo has secured multiple league titles, including three Premier League titles and two La Liga titles, along with five UEFA Champions League trophies.\", 'His international accolades include leading Portugal to victory in the 2016 UEFA European Championship and the 2019 UEFA Nations League.', \"As a prolific goal-scorer, Ronaldo holds the record for the most goals in the UEFA Champions League and became the all-time leading scorer in men's international matches, underscoring his status as a global football legend.\"]\n"
          ]
        }
      ]
    },
    {
      "cell_type": "markdown",
      "source": [
        "POS Tagging\n"
      ],
      "metadata": {
        "id": "HubWweDIe7bf"
      }
    },
    {
      "cell_type": "code",
      "source": [
        "from nltk import pos_tag\n",
        "tokens = word_tokenize(RonaldoData)\n",
        "print(pos_tag(tokens))"
      ],
      "metadata": {
        "colab": {
          "base_uri": "https://localhost:8080/"
        },
        "id": "1IoHC-RgeSM0",
        "outputId": "176c9382-6024-4edd-e44d-92e3a4c6d25e"
      },
      "execution_count": null,
      "outputs": [
        {
          "output_type": "stream",
          "name": "stdout",
          "text": [
            "[('Cristiano', 'NNP'), ('Ronaldo', 'NNP'), (',', ','), ('one', 'CD'), ('of', 'IN'), ('football', 'NN'), (\"'s\", 'POS'), ('most', 'RBS'), ('iconic', 'JJ'), ('figures', 'NNS'), (',', ','), ('has', 'VBZ'), ('achieved', 'VBN'), ('remarkable', 'JJ'), ('success', 'NN'), ('across', 'IN'), ('his', 'PRP$'), ('stints', 'NNS'), ('with', 'IN'), ('clubs', 'NNS'), ('like', 'IN'), ('Manchester', 'NNP'), ('United', 'NNP'), (',', ','), ('Real', 'NNP'), ('Madrid', 'NNP'), (',', ','), ('and', 'CC'), ('Juventus', 'NNP'), (',', ','), ('and', 'CC'), ('on', 'IN'), ('the', 'DT'), ('international', 'JJ'), ('stage', 'NN'), ('with', 'IN'), ('Portugal', 'NNP'), ('.', '.'), ('Notable', 'NNP'), ('for', 'IN'), ('winning', 'VBG'), ('five', 'CD'), ('Ballon', 'NNP'), (\"d'Or\", 'NN'), ('awards', 'NNS'), (',', ','), ('Ronaldo', 'NNP'), ('has', 'VBZ'), ('secured', 'VBN'), ('multiple', 'JJ'), ('league', 'NN'), ('titles', 'NNS'), (',', ','), ('including', 'VBG'), ('three', 'CD'), ('Premier', 'NNP'), ('League', 'NNP'), ('titles', 'NNS'), ('and', 'CC'), ('two', 'CD'), ('La', 'NNP'), ('Liga', 'NNP'), ('titles', 'NNS'), (',', ','), ('along', 'IN'), ('with', 'IN'), ('five', 'CD'), ('UEFA', 'NNP'), ('Champions', 'NNP'), ('League', 'NNP'), ('trophies', 'NNS'), ('.', '.'), ('His', 'PRP$'), ('international', 'JJ'), ('accolades', 'NNS'), ('include', 'VBP'), ('leading', 'VBG'), ('Portugal', 'NNP'), ('to', 'TO'), ('victory', 'NN'), ('in', 'IN'), ('the', 'DT'), ('2016', 'CD'), ('UEFA', 'NNP'), ('European', 'NNP'), ('Championship', 'NNP'), ('and', 'CC'), ('the', 'DT'), ('2019', 'CD'), ('UEFA', 'NNP'), ('Nations', 'NNP'), ('League', 'NNP'), ('.', '.'), ('As', 'IN'), ('a', 'DT'), ('prolific', 'JJ'), ('goal-scorer', 'NN'), (',', ','), ('Ronaldo', 'NNP'), ('holds', 'VBZ'), ('the', 'DT'), ('record', 'NN'), ('for', 'IN'), ('the', 'DT'), ('most', 'RBS'), ('goals', 'NNS'), ('in', 'IN'), ('the', 'DT'), ('UEFA', 'NNP'), ('Champions', 'NNP'), ('League', 'NNP'), ('and', 'CC'), ('became', 'VBD'), ('the', 'DT'), ('all-time', 'JJ'), ('leading', 'JJ'), ('scorer', 'NN'), ('in', 'IN'), ('men', 'NNS'), (\"'s\", 'POS'), ('international', 'JJ'), ('matches', 'NNS'), (',', ','), ('underscoring', 'VBG'), ('his', 'PRP$'), ('status', 'NN'), ('as', 'IN'), ('a', 'DT'), ('global', 'JJ'), ('football', 'NN'), ('legend', 'NN'), ('.', '.')]\n"
          ]
        }
      ]
    },
    {
      "cell_type": "markdown",
      "source": [
        "StopWords Removal"
      ],
      "metadata": {
        "id": "8MlxMsIxfe3t"
      }
    },
    {
      "cell_type": "code",
      "source": [
        "from nltk.corpus import stopwords\n",
        "stopwords = set(stopwords.words(\"english\"))"
      ],
      "metadata": {
        "id": "kExPI6uNfjPa"
      },
      "execution_count": null,
      "outputs": []
    },
    {
      "cell_type": "code",
      "source": [
        "tokens = word_tokenize(RonaldoData)\n",
        "cleaned_tokens = []\n",
        "for token in tokens:\n",
        "  if token not in stopwords:\n",
        "    cleaned_tokens.append(token)\n",
        "\n",
        "print(cleaned_tokens)"
      ],
      "metadata": {
        "colab": {
          "base_uri": "https://localhost:8080/"
        },
        "id": "zHSgeGqDf2Ux",
        "outputId": "7e9a7793-8163-4e96-f95f-4ab042b04629"
      },
      "execution_count": null,
      "outputs": [
        {
          "output_type": "stream",
          "name": "stdout",
          "text": [
            "['Cristiano', 'Ronaldo', ',', 'one', 'football', \"'s\", 'iconic', 'figures', ',', 'achieved', 'remarkable', 'success', 'across', 'stints', 'clubs', 'like', 'Manchester', 'United', ',', 'Real', 'Madrid', ',', 'Juventus', ',', 'international', 'stage', 'Portugal', '.', 'Notable', 'winning', 'five', 'Ballon', \"d'Or\", 'awards', ',', 'Ronaldo', 'secured', 'multiple', 'league', 'titles', ',', 'including', 'three', 'Premier', 'League', 'titles', 'two', 'La', 'Liga', 'titles', ',', 'along', 'five', 'UEFA', 'Champions', 'League', 'trophies', '.', 'His', 'international', 'accolades', 'include', 'leading', 'Portugal', 'victory', '2016', 'UEFA', 'European', 'Championship', '2019', 'UEFA', 'Nations', 'League', '.', 'As', 'prolific', 'goal-scorer', ',', 'Ronaldo', 'holds', 'record', 'goals', 'UEFA', 'Champions', 'League', 'became', 'all-time', 'leading', 'scorer', 'men', \"'s\", 'international', 'matches', ',', 'underscoring', 'status', 'global', 'football', 'legend', '.']\n"
          ]
        }
      ]
    },
    {
      "cell_type": "markdown",
      "source": [
        "Stemming"
      ],
      "metadata": {
        "id": "TcY1QC56gf6J"
      }
    },
    {
      "cell_type": "code",
      "source": [
        "from nltk.stem import PorterStemmer\n",
        "stemming = PorterStemmer()"
      ],
      "metadata": {
        "id": "9KEstg3bgeCL"
      },
      "execution_count": null,
      "outputs": []
    },
    {
      "cell_type": "code",
      "source": [
        "stemmed_token = []\n",
        "for token in cleaned_tokens:\n",
        "  stemmer = stemming.stem(token)\n",
        "  stemmed_token.append(stemmer)\n",
        "print(stemmed_token)"
      ],
      "metadata": {
        "colab": {
          "base_uri": "https://localhost:8080/"
        },
        "id": "4J6tsG_kg7MY",
        "outputId": "c2a736ff-075f-4078-93bd-dea9eb0b157c"
      },
      "execution_count": null,
      "outputs": [
        {
          "output_type": "stream",
          "name": "stdout",
          "text": [
            "['cristiano', 'ronaldo', ',', 'one', 'footbal', \"'s\", 'icon', 'figur', ',', 'achiev', 'remark', 'success', 'across', 'stint', 'club', 'like', 'manchest', 'unit', ',', 'real', 'madrid', ',', 'juventu', ',', 'intern', 'stage', 'portug', '.', 'notabl', 'win', 'five', 'ballon', \"d'or\", 'award', ',', 'ronaldo', 'secur', 'multipl', 'leagu', 'titl', ',', 'includ', 'three', 'premier', 'leagu', 'titl', 'two', 'la', 'liga', 'titl', ',', 'along', 'five', 'uefa', 'champion', 'leagu', 'trophi', '.', 'hi', 'intern', 'accolad', 'includ', 'lead', 'portug', 'victori', '2016', 'uefa', 'european', 'championship', '2019', 'uefa', 'nation', 'leagu', '.', 'as', 'prolif', 'goal-scor', ',', 'ronaldo', 'hold', 'record', 'goal', 'uefa', 'champion', 'leagu', 'becam', 'all-tim', 'lead', 'scorer', 'men', \"'s\", 'intern', 'match', ',', 'underscor', 'statu', 'global', 'footbal', 'legend', '.']\n"
          ]
        }
      ]
    },
    {
      "cell_type": "markdown",
      "source": [
        "Lemmetization"
      ],
      "metadata": {
        "id": "TsIDkH90hWyt"
      }
    },
    {
      "cell_type": "code",
      "source": [
        "from nltk.stem import WordNetLemmatizer"
      ],
      "metadata": {
        "id": "yQpxOrdIhU9H"
      },
      "execution_count": null,
      "outputs": []
    },
    {
      "cell_type": "code",
      "source": [
        "lemmatizer = WordNetLemmatizer()"
      ],
      "metadata": {
        "id": "zueRVihVhtyY"
      },
      "execution_count": null,
      "outputs": []
    },
    {
      "cell_type": "code",
      "source": [
        "lemmatized_tokens = []\n",
        "for token in cleaned_tokens:\n",
        "  lemmatized = lemmatizer.lemmatize(token)\n",
        "  lemmatized_tokens.append(lemmatized)\n",
        "print(lemmatized_tokens)"
      ],
      "metadata": {
        "colab": {
          "base_uri": "https://localhost:8080/"
        },
        "id": "BdWehb9UhynV",
        "outputId": "e49fbd81-eefd-40c3-d719-1889b2bac799"
      },
      "execution_count": null,
      "outputs": [
        {
          "output_type": "stream",
          "name": "stdout",
          "text": [
            "['Cristiano', 'Ronaldo', ',', 'one', 'football', \"'s\", 'iconic', 'figure', ',', 'achieved', 'remarkable', 'success', 'across', 'stint', 'club', 'like', 'Manchester', 'United', ',', 'Real', 'Madrid', ',', 'Juventus', ',', 'international', 'stage', 'Portugal', '.', 'Notable', 'winning', 'five', 'Ballon', \"d'Or\", 'award', ',', 'Ronaldo', 'secured', 'multiple', 'league', 'title', ',', 'including', 'three', 'Premier', 'League', 'title', 'two', 'La', 'Liga', 'title', ',', 'along', 'five', 'UEFA', 'Champions', 'League', 'trophy', '.', 'His', 'international', 'accolade', 'include', 'leading', 'Portugal', 'victory', '2016', 'UEFA', 'European', 'Championship', '2019', 'UEFA', 'Nations', 'League', '.', 'As', 'prolific', 'goal-scorer', ',', 'Ronaldo', 'hold', 'record', 'goal', 'UEFA', 'Champions', 'League', 'became', 'all-time', 'leading', 'scorer', 'men', \"'s\", 'international', 'match', ',', 'underscoring', 'status', 'global', 'football', 'legend', '.']\n"
          ]
        }
      ]
    },
    {
      "cell_type": "markdown",
      "source": [
        "TF-IDF"
      ],
      "metadata": {
        "id": "G_PRtJffiuU_"
      }
    },
    {
      "cell_type": "code",
      "source": [
        "from sklearn.feature_extraction.text import TfidfVectorizer"
      ],
      "metadata": {
        "id": "sbGFRgnTiBZG"
      },
      "execution_count": null,
      "outputs": []
    },
    {
      "cell_type": "code",
      "source": [
        "corpus = [\n",
        "    \"Sachin was the GOAT of the previous generation\",\n",
        "    \"Virat is the GOAT of the this generation\",\n",
        "    \"Shubman will be the GOAT of the next generation\"\n",
        "]"
      ],
      "metadata": {
        "id": "s7MMirWRjbL4"
      },
      "execution_count": null,
      "outputs": []
    },
    {
      "cell_type": "code",
      "source": [
        "vectorizer = TfidfVectorizer()"
      ],
      "metadata": {
        "id": "8yWrNjzWi-2b"
      },
      "execution_count": null,
      "outputs": []
    },
    {
      "cell_type": "code",
      "source": [
        "matrix = vectorizer.fit(corpus)\n",
        "matrix.vocabulary_"
      ],
      "metadata": {
        "colab": {
          "base_uri": "https://localhost:8080/"
        },
        "id": "Nn9BYE1VjJbs",
        "outputId": "3ebdee8e-16b7-4b9b-e915-488121da0872"
      },
      "execution_count": null,
      "outputs": [
        {
          "output_type": "execute_result",
          "data": {
            "text/plain": [
              "{'sachin': 7,\n",
              " 'was': 12,\n",
              " 'the': 9,\n",
              " 'goat': 2,\n",
              " 'of': 5,\n",
              " 'previous': 6,\n",
              " 'generation': 1,\n",
              " 'virat': 11,\n",
              " 'is': 3,\n",
              " 'this': 10,\n",
              " 'shubman': 8,\n",
              " 'will': 13,\n",
              " 'be': 0,\n",
              " 'next': 4}"
            ]
          },
          "metadata": {},
          "execution_count": 30
        }
      ]
    },
    {
      "cell_type": "code",
      "source": [
        "tfidf_matrix = vectorizer.transform(corpus)\n",
        "print(tfidf_matrix)"
      ],
      "metadata": {
        "colab": {
          "base_uri": "https://localhost:8080/"
        },
        "id": "OpbMexrijUbE",
        "outputId": "2cb9516d-41cd-49fd-d204-4bd1e0a46e2c"
      },
      "execution_count": null,
      "outputs": [
        {
          "output_type": "stream",
          "name": "stdout",
          "text": [
            "  (0, 12)\t0.4286758743128819\n",
            "  (0, 9)\t0.5063657539459899\n",
            "  (0, 7)\t0.4286758743128819\n",
            "  (0, 6)\t0.4286758743128819\n",
            "  (0, 5)\t0.25318287697299496\n",
            "  (0, 2)\t0.25318287697299496\n",
            "  (0, 1)\t0.25318287697299496\n",
            "  (1, 11)\t0.4286758743128819\n",
            "  (1, 10)\t0.4286758743128819\n",
            "  (1, 9)\t0.5063657539459899\n",
            "  (1, 5)\t0.25318287697299496\n",
            "  (1, 3)\t0.4286758743128819\n",
            "  (1, 2)\t0.25318287697299496\n",
            "  (1, 1)\t0.25318287697299496\n",
            "  (2, 13)\t0.39400039808922477\n",
            "  (2, 9)\t0.4654059642457353\n",
            "  (2, 8)\t0.39400039808922477\n",
            "  (2, 5)\t0.23270298212286766\n",
            "  (2, 4)\t0.39400039808922477\n",
            "  (2, 2)\t0.23270298212286766\n",
            "  (2, 1)\t0.23270298212286766\n",
            "  (2, 0)\t0.39400039808922477\n"
          ]
        }
      ]
    }
  ]
}